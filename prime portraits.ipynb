{
 "cells": [
  {
   "cell_type": "markdown",
   "metadata": {},
   "source": [
    "# Painting by prime number\n",
    "Two weeks ago I stumbled upon the concept of [prime portraits](http://archive.bridgesmathart.org/2016/bridges2016-359.pdf). Unfortunatly I could not find the code, and I loved to see the same portraits in color. I decided that I could create this in Python and set off to work! Below is the Jupyter Notebook with the code I used to generate the following results:\n",
    "\n",
    "![starry night](http://www.pinchofintelligence.com/wp-content/uploads/2018/06/starrynight-prime-386kb.png)\n",
    "![mona lisa](http://www.pinchofintelligence.com/wp-content/uploads/2018/05/monalisa-prime.png)\n",
    "![My face](http://www.pinchofintelligence.com/wp-content/uploads/2018/06/rolandface-prime.png)\n",
    "\n",
    "## The concept\n",
    "The idea of a prime portrait is that if you take a prime number, format it like a normal number with X digits per line, and give each digit a color you get something that resembles an image: \n",
    "\n",
    "You create them by taking an image, and converting it to an image with only 10 colors. You select a digit for each color, and generating many similar images with a little bit of noise added. If the digits in this image with only 10 colors are put after one another, and this forms a prime number, you found your prime portrait!\n"
   ]
  },
  {
   "cell_type": "code",
   "execution_count": 1,
   "metadata": {},
   "outputs": [],
   "source": [
    "import matplotlib.pyplot as plt\n",
    "%matplotlib inline\n",
    "\n",
    "import numpy as np\n",
    "import skimage.transform\n",
    "import skimage.io\n",
    "from sklearn.cluster import KMeans\n",
    "import scipy.misc\n",
    "from PIL import Image, ImageFont, ImageDraw\n",
    "\n",
    "import numpy as np\n",
    "\n",
    "from multiprocessing import Pool\n",
    "import time\n",
    "import random"
   ]
  },
  {
   "cell_type": "markdown",
   "metadata": {},
   "source": [
    "## Testing for primality\n",
    "When working with extremely long primes the naive method of testing each divisor will take way too much time. Instead we take a probabilistic approach to the prime numbers. I downloaded the following code for the Miller-Rabin primality test from Rosetta code to check for primality:"
   ]
  },
  {
   "cell_type": "code",
   "execution_count": 2,
   "metadata": {},
   "outputs": [],
   "source": [
    "def try_composite(a, d, n, s):\n",
    "    # test the base a to see whether it is a witness for the compositeness of n\n",
    "    if pow(a, d, n) == 1:\n",
    "        return False\n",
    "    for i in range(s):\n",
    "        if pow(a, 2**i * d, n) == n-1:\n",
    "            return False\n",
    "    return True # n is definitely composite\n",
    "\n",
    "    \n",
    "def is_probable_prime(n, mrpt_num_trials = 5):\n",
    "    \"\"\"\n",
    "    Miller-Rabin primality test.\n",
    " \n",
    "    A return value of False means n is certainly not prime. A return value of\n",
    "    True means n is very likely a prime.\n",
    "\n",
    "    \"\"\"\n",
    "    assert n >= 2\n",
    "    # special case 2\n",
    "    if n == 2:\n",
    "        return True\n",
    "    # ensure n is odd\n",
    "    if n % 2 == 0:\n",
    "        return False\n",
    "    # write n-1 as 2**s * d\n",
    "    # repeatedly try to divide n-1 by 2\n",
    "    s = 0\n",
    "    d = n-1\n",
    "    while True:\n",
    "        quotient, remainder = divmod(d, 2)\n",
    "        if remainder == 1:\n",
    "            break\n",
    "        s += 1\n",
    "        d = quotient\n",
    "    assert(2**s * d == n-1)\n",
    "                                     \n",
    "    for i in range(mrpt_num_trials):\n",
    "        a = random.randrange(2, n)\n",
    "        if try_composite(a, d, n, s):\n",
    "            return False\n",
    "        \n",
    "    return True # no base tested showed n as composite\n",
    "\n",
    "assert is_probable_prime(2)\n",
    "assert is_probable_prime(3)\n",
    "assert not is_probable_prime(4)\n",
    "assert  is_probable_prime(5)\n",
    "assert not is_probable_prime(123456789)\n",
    "primes_under_1000 = [i for i in range(2, 1000) if is_probable_prime(i)]\n",
    "assert len(primes_under_1000) == 168\n",
    "assert primes_under_1000[-10:] == [937, 941, 947, 953, 967, 971, 977, 983, 991, 997]\n",
    "assert is_probable_prime(6438080068035544392301298549614926991513861075340134\\\n",
    "3291807343952413826484237063006136971539473913409092293733259038472039\\\n",
    "7133335969549256322620979036686633213903952966175107096769180017646161\\\n",
    "851573147596390153)\n",
    "assert not is_probable_prime(7438080068035544392301298549614926991513861075340134\\\n",
    "3291807343952413826484237063006136971539473913409092293733259038472039\\\n",
    "7133335969549256322620979036686633213903952966175107096769180017646161\\\n",
    "851573147596390153)\n"
   ]
  },
  {
   "cell_type": "markdown",
   "metadata": {},
   "source": [
    "## Generating the images\n",
    "The basis of the algorithm is generating images with only 10 possible color values. Although I did not know what a common approach to this is I opted for applying a k-means algorithm on a reshaped image (so each pixel is a point in 3D speace) and using the 10 created clusters as color values. \n",
    "\n",
    "Important for the prime generation is that you ad a little bit of noise to the original image to create images that look the same, but actually are a different number (a new chance for a prime number!). "
   ]
  },
  {
   "cell_type": "code",
   "execution_count": 3,
   "metadata": {},
   "outputs": [],
   "source": [
    "def get_k_means(image):\n",
    "    pointcloud = np.reshape(image, (-1, 3))\n",
    "    kmeans = KMeans(n_clusters=10).fit(pointcloud)\n",
    "    return kmeans\n",
    "\n",
    "def create_numbered_image(image, kmeans):\n",
    "    \"\"\"\n",
    "    Turns an RGB image into an image with the labels of clusters of the supplied kmeans classifier. \n",
    "    \"\"\"\n",
    "    # apply noise\n",
    "    stdev = np.std(image)\n",
    "    random_noise = np.random.random_sample(size=image.shape)*(stdev/3)\n",
    "    image = image + random_noise\n",
    "    \n",
    "    orig_shape = image.shape\n",
    "    image = np.reshape(image, (-1, 3))\n",
    "\n",
    "    numbered_image = kmeans.predict(image)\n",
    "    numbered_image = np.reshape(numbered_image, orig_shape[:2])\n",
    "    \n",
    "    # make sure the end is uneven\n",
    "    if numbered_image[-1,-1]%2==0:\n",
    "        numbered_image[-1,-1] += 1\n",
    "\n",
    "    return numbered_image\n",
    "\n",
    "def numbered_image_to_normal_image(numbered_image, kmeans):\n",
    "    \"\"\"\n",
    "    Turns an image with only values between 0 and 9 into a colored image by using the cluster centers \n",
    "    of the supplied kmeans classifier. \n",
    "    \"\"\"\n",
    "    shape = (numbered_image.shape[0], numbered_image.shape[1], 3)\n",
    "    image = np.zeros(shape)\n",
    "    for label, color in zip(range(10), kmeans.cluster_centers_):\n",
    "        image[numbered_image==label] = color\n",
    "    return image\n"
   ]
  },
  {
   "cell_type": "markdown",
   "metadata": {},
   "source": [
    "### Numerised image examples\n",
    "Here I create a few examples of numerised images. As you can see each image is slightly different, but you can still recognise the original picture. This is crucial for us, as this allows us to generate multiple numerised images that we can test for primality."
   ]
  },
  {
   "cell_type": "code",
   "execution_count": 4,
   "metadata": {},
   "outputs": [
    {
     "name": "stderr",
     "output_type": "stream",
     "text": [
      "/usr/local/lib/python3.5/dist-packages/skimage/transform/_warps.py:105: UserWarning: The default mode, 'constant', will be changed to 'reflect' in skimage 0.15.\n",
      "  warn(\"The default mode, 'constant', will be changed to 'reflect' in \"\n",
      "/usr/local/lib/python3.5/dist-packages/skimage/transform/_warps.py:110: UserWarning: Anti-aliasing will be enabled by default in skimage 0.15 to avoid aliasing artifacts when down-sampling images.\n",
      "  warn(\"Anti-aliasing will be enabled by default in skimage 0.15 to \"\n"
     ]
    },
    {
     "data": {
      "image/png": "[encoded data removed]",
      "text/plain": [
       "<Figure size 432x288 with 1 Axes>"
      ]
     },
     "metadata": {},
     "output_type": "display_data"
    },
    {
     "data": {
      "image/png": "[encoded data removed]",
      "text/plain": [
       "<Figure size 432x288 with 1 Axes>"
      ]
     },
     "metadata": {},
     "output_type": "display_data"
    },
    {
     "data": {
      "image/png": "[encoded data removed]",
      "text/plain": [
       "<Figure size 432x288 with 1 Axes>"
      ]
     },
     "metadata": {},
     "output_type": "display_data"
    }
   ],
   "source": [
    "\n",
    "def load_and_resize_image(filename, resize_factor=18):\n",
    "    image = skimage.io.imread(filename)\n",
    "    image = image.astype(np.float64)\n",
    "    image = image / 255.\n",
    "    \n",
    "    oldshape = image.shape\n",
    "    resized_image = skimage.transform.resize(image, (oldshape[0]//resize_factor, oldshape[1]//resize_factor))\n",
    "\n",
    "    return resized_image\n",
    "\n",
    "resized_image = load_and_resize_image('input_pictures/monalisa.jpg')\n",
    "kmeans = get_k_means(resized_image)\n",
    "for _ in range(3):\n",
    "    n_image = create_numbered_image(resized_image, kmeans)\n",
    "    normal_image = numbered_image_to_normal_image(n_image, kmeans)\n",
    "    \n",
    "    plt.imshow(normal_image)\n",
    "    plt.show()"
   ]
  },
  {
   "cell_type": "markdown",
   "metadata": {},
   "source": [
    "## Helper functions\n",
    "I had to create some helper functions to return strings, integers, and load and show images: "
   ]
  },
  {
   "cell_type": "code",
   "execution_count": 5,
   "metadata": {},
   "outputs": [],
   "source": [
    "def image_to_number(numbered_image):\n",
    "    to_be_number = numbered_image.reshape(-1)\n",
    "    as_string = ''.join([str(int(x)) for x in to_be_number])\n",
    "    as_int = int(as_string)\n",
    "    return as_int, as_string\n",
    "\n",
    "\n",
    "def show_and_save_image(image, n_image, filename, fontsize=16):\n",
    "    oldshape = image.shape\n",
    "    resized_image= scipy.misc.imresize(image,(oldshape[0]*fontsize, oldshape[1]*fontsize), interp='nearest')\n",
    "    img = Image.fromarray(resized_image).convert(\"RGBA\")\n",
    "    txt = Image.new('RGBA', img.size, (255,255,255,0))\n",
    "\n",
    "    draw = ImageDraw.Draw(txt)\n",
    "    font = ImageFont.truetype(\"pirulen rg.ttf\", fontsize)\n",
    "    for y_i, totype in enumerate(n_image):\n",
    "        for x_i, letter in enumerate(totype):\n",
    "            xpos = x_i * fontsize + 1\n",
    "            ypos = y_i * fontsize\n",
    "            if letter == 1:\n",
    "                xpos += 4\n",
    "            draw.text((xpos, ypos),str(letter),(255,255,255, 128),font=font)\n",
    "    img = Image.alpha_composite(img, txt)    \n",
    "\n",
    "    img.save(filename)\n",
    "    plt.figure(figsize=(20,20))\n",
    "    plt.imshow(img)\n",
    "    plt.show()\n",
    "\n",
    "def result_filename(filename):\n",
    "    return filename.split('.')[0] + \"-prime.png\""
   ]
  },
  {
   "cell_type": "markdown",
   "metadata": {},
   "source": [
    "To verify if something is a good prime portrait I made the following helper functions: "
   ]
  },
  {
   "cell_type": "code",
   "execution_count": 6,
   "metadata": {},
   "outputs": [],
   "source": [
    "def is_good_prime_portrait(n_image):\n",
    "    integer, string = image_to_number(n_image)\n",
    "    if is_probable_prime(integer): \n",
    "        return integer, string, n_image\n",
    "    else:\n",
    "        return None\n",
    "    \n",
    "    \n",
    "def print_result(string, n_image):\n",
    "    print(string)\n",
    "    print(\"-\"*100)\n",
    "    for line in n_image:\n",
    "        print(''.join([str(x) for x in line]))\n"
   ]
  },
  {
   "cell_type": "markdown",
   "metadata": {},
   "source": [
    "## Multi threaded searching\n",
    "At first I created a single-threaded solution that worked. However: I became annoyed that my laptop with multiple cores could work harder on multiple numbers at the same time so I rewrote it as multi-threaded functions: \n"
   ]
  },
  {
   "cell_type": "code",
   "execution_count": 7,
   "metadata": {},
   "outputs": [],
   "source": [
    "def print_result(string, n_image):\n",
    "    print(\"Found a result: \" + \"-\"*100)\n",
    "    print(string)\n",
    "    print(\"Represented as portrait:\" + \"-\"*100)\n",
    "    for line in n_image:\n",
    "        print(''.join([str(x) for x in line]))\n",
    "\n",
    "def multi_threaded_prime_generator(resized_image, kmeans, filename, threads=4, log_process=True):\n",
    "    image_generator = (create_numbered_image(resized_image, kmeans) for _ in range(1000000))\n",
    "    start = time.time() \n",
    "    with Pool(threads) as pool:\n",
    "        results = pool.imap_unordered(is_good_prime_portrait, image_generator)\n",
    "        total_results = 0\n",
    "        \n",
    "        for result in results:\n",
    "            total_results += 1\n",
    "            \n",
    "            # Possibly log time spend searching this prime number\n",
    "            if log_process and total_results%30==0:\n",
    "                elapsed = time.time()\n",
    "                elapsed = elapsed - start\n",
    "                print(\"Seconds spent in (function name) is {} time per result: {}\".format(str(elapsed), str(elapsed/total_results)))\n",
    "\n",
    "                \n",
    "            if result != None: \n",
    "                # Found a prime number, print it and save it!\n",
    "                integer, string, n_image = result\n",
    "                print_result(string, n_image)\n",
    "                normal_image = numbered_image_to_normal_image(n_image, kmeans)\n",
    "                plt.imshow(normal_image)\n",
    "                plt.show()\n",
    "                show_and_save_image(normal_image, n_image, result_filename(filename))\n",
    "                break\n",
    "                \n",
    "                \n",
    "def search_prime_portrait(filename, resize_factor=16, log_process=True, threads=4):\n",
    "    resized_image = load_and_resize_image(filename, resize_factor=resize_factor)\n",
    "    print(\"Working with size \" + str(resized_image.shape))\n",
    "    kmeans = get_k_means(resized_image)\n",
    "    multi_threaded_prime_generator(resized_image, kmeans, filename, log_process=log_process, threads=threads)\n",
    "\n"
   ]
  },
  {
   "cell_type": "markdown",
   "metadata": {},
   "source": [
    "## Generating prime portraits\n",
    "Now that we defined all functionality it's finally time to generate the prime portraits! Try to play around with it, and try to feed your own images. Note the resize_factor variable you can pass to the function: the bigger this is the fast you generate a prime portrait, and the smaller it is the longer it takes to generate a prime portrait. See below for more information on the exponential time it takes to generate larger prime portraits. "
   ]
  },
  {
   "cell_type": "code",
   "execution_count": null,
   "metadata": {},
   "outputs": [
    {
     "name": "stdout",
     "output_type": "stream",
     "text": [
      "Working with size (19, 13, 3)\n"
     ]
    },
    {
     "name": "stderr",
     "output_type": "stream",
     "text": [
      "/usr/local/lib/python3.5/dist-packages/skimage/transform/_warps.py:105: UserWarning: The default mode, 'constant', will be changed to 'reflect' in skimage 0.15.\n",
      "  warn(\"The default mode, 'constant', will be changed to 'reflect' in \"\n",
      "/usr/local/lib/python3.5/dist-packages/skimage/transform/_warps.py:110: UserWarning: Anti-aliasing will be enabled by default in skimage 0.15 to avoid aliasing artifacts when down-sampling images.\n",
      "  warn(\"Anti-aliasing will be enabled by default in skimage 0.15 to \"\n"
     ]
    },
    {
     "name": "stdout",
     "output_type": "stream",
     "text": [
      "Found a result: ----------------------------------------------------------------------------------------------------\n",
      "4440444444442444444244242222222331222222222869174222044419531002280001368780008000893170000000488551802033318669384533331966958182851813501178385111881737880888181781118883118777171811899917711117711555318711711333881171177711817777717717777777717\n",
      "Represented as portrait:----------------------------------------------------------------------------------------------------\n",
      "4440444444442\n",
      "4444442442422\n",
      "2222233122222\n",
      "2222869174222\n",
      "0444195310022\n",
      "8000136878000\n",
      "8000893170000\n",
      "0004885518020\n",
      "3331866938453\n",
      "3331966958182\n",
      "8518135011783\n",
      "8511188173788\n",
      "0888181781118\n",
      "8831187771718\n",
      "1189991771111\n",
      "7711555318711\n",
      "7113338811711\n",
      "7771181777771\n",
      "7717777777717\n"
     ]
    },
    {
     "data": {
      "image/png": "[encoded data removed]",
      "text/plain": [
       "<Figure size 432x288 with 1 Axes>"
      ]
     },
     "metadata": {},
     "output_type": "display_data"
    },
    {
     "name": "stderr",
     "output_type": "stream",
     "text": [
      "/usr/local/lib/python3.5/dist-packages/ipykernel_launcher.py:10: DeprecationWarning: `imresize` is deprecated!\n",
      "`imresize` is deprecated in SciPy 1.0.0, and will be removed in 1.2.0.\n",
      "Use ``skimage.transform.resize`` instead.\n",
      "  # Remove the CWD from sys.path while we load stuff.\n"
     ]
    },
    {
     "data": {
      "image/png": "[encoded data removed]",
      "text/plain": [
       "<Figure size 1440x1440 with 1 Axes>"
      ]
     },
     "metadata": {},
     "output_type": "display_data"
    },
    {
     "name": "stdout",
     "output_type": "stream",
     "text": [
      "Working with size (18, 15, 3)\n"
     ]
    }
   ],
   "source": [
    "folder = 'input_pictures/'\n",
    "\n",
    "filenames = [\n",
    "    folder + 'monalisa.jpg',\n",
    "    #folder + 'sunflowers.jpg',\n",
    "    #folder + 'starrynight.jpg'\n",
    "]\n",
    "filename = filenames[0]\n",
    "\n",
    "for filename in filenames:\n",
    "    search_prime_portrait(filename, resize_factor=20, log_process=False, threads=4)\n"
   ]
  },
  {
   "cell_type": "markdown",
   "metadata": {},
   "source": [
    "## How does this scale?\n",
    "Appartenlty the largest known prime number is 22338618 long (http://primes.utm.edu/largest.html). This would allow us to create a 4726 * 4726 prime portrait, which would be a prime portrait in 4K...\n",
    "\n",
    "However: I noticed that finding prime numbers does not really scale. The length of the prime number grows quadratically with the resolution of your images, which causes big problems. Although the probability that you find a prime number only decreases linearly with the length of the prime number, it decreases quadratically when you get larger image resolutions. I plotted it in this image to show the effect up to 300x300:\n",
    "\n"
   ]
  },
  {
   "cell_type": "code",
   "execution_count": null,
   "metadata": {},
   "outputs": [],
   "source": [
    "def trials_expected_img(w,h):\n",
    "    return 2.3*w*h\n",
    "\n",
    "needed = [trials_expected_img(x,x) for x in range(1,300)]\n",
    "plt.plot(needed)"
   ]
  },
  {
   "cell_type": "markdown",
   "metadata": {},
   "source": [
    "But what's even worse is that the time to compute if a number is a prime number in the Python implementation I use grows quadratically with the length of the prime number. I also decided to plot this for my laptop up to an image resolution of 30x30:"
   ]
  },
  {
   "cell_type": "code",
   "execution_count": null,
   "metadata": {},
   "outputs": [],
   "source": [
    "def time_expected_img(w,h):\n",
    "    order = w*h\n",
    "    start = time.time() \n",
    "    for _ in range(100):\n",
    "        posprim = random.randrange(10**(order-1), 10**order)    \n",
    "        a = is_probable_prime(posprim)\n",
    "    end = time.time()\n",
    "    return end - start\n",
    "\n",
    "    \n",
    "test_range = range(2,30,4)\n",
    "time_needed = [time_expected_img(x,x) for x in test_range]\n",
    "plt.plot(test_range, time_needed)\n",
    "plt.title(\"Seconds expected to calculate if an XxY image is a prime portrait \")\n",
    "plt.xlabel(\"Width image\")\n",
    "plt.ylabel(\"Expected seconds\")"
   ]
  },
  {
   "cell_type": "markdown",
   "metadata": {},
   "source": [
    "Combining both linear curves you can easily estimate the expected time you need to find a portrait of a certain size:"
   ]
  },
  {
   "cell_type": "code",
   "execution_count": null,
   "metadata": {},
   "outputs": [],
   "source": [
    "total_needed = [trials_expected_img(x,x)*time_expected_img(x,x) for x in test_range]\n",
    "plt.plot(test_range, total_needed)\n",
    "plt.title(\"Seconds expected to find an XxY prime portrait \")\n",
    "plt.xlabel(\"Width image\")\n",
    "plt.ylabel(\"Expected seconds\")"
   ]
  },
  {
   "cell_type": "markdown",
   "metadata": {},
   "source": [
    "If you can find a more efficient Python implementation of a probabilistic prime checker, or implement it in a language more suitable to high demand computation you can get this time down. Each additional computer core also reduces this time a bit, but for now we can not expect 4K prime portraits anytime toon. "
   ]
  },
  {
   "cell_type": "markdown",
   "metadata": {},
   "source": [
    "## Conclusion and artworks\n",
    "The last couple of weeks I really enjoyed letting my computer find prime portraits. Here are some of the \"artworks\" my computer found I particulary liked: \n",
    "![Sunflowers](http://www.pinchofintelligence.com/wp-content/uploads/2018/05/sunflowers-prime.png)\n",
    "![Great wave](http://www.pinchofintelligence.com/wp-content/uploads/2018/06/greatwave-prime-big.png)\n",
    "![Pearl](http://www.pinchofintelligence.com/wp-content/uploads/2018/06/1200px-Girl_with_a_Pearl_Earring-prime.png)\n",
    "\n",
    "## Celebrity artworks\n",
    "Although pictures of existing art often turn our pretty well it turns out that it's difficult to create good looking prime portraits for people. I decided to try some portraits for people I like to follow online. It turns out that finding good prime portraits is difficult, as the result image still has to look good with only ten colors. Images that turned our well are: \n",
    "\n",
    "#### Ionica Smeets\n",
    "Writes interesting articles in a Dutch newspaper every Saturday, and got featured a while ago in the Dutch comic called \"Donald Duck\": \n",
    "![Ionica Smeets](http://www.pinchofintelligence.com/wp-content/uploads/2018/06/ionica_duck-prime.png)\n",
    "#### Brady Haran\n",
    "Makes interesting videos about mathematical concepts on the Numberphile Youtube channel. Also: has a cute dog ;)\n",
    "![Brady Haran](http://www.pinchofintelligence.com/wp-content/uploads/2018/06/brady-prime.png)\n",
    "\n",
    "## Requests\n",
    "As I put the code online you can try to generate some prime portraits for yourself! If you really think I should try a certain artwork, feel free to reach out to me. Also: if you have a good idea what to do with these results, feel free to reach out. I know that I personally am going to hang the prime version of Starry Night on my wall!\n"
   ]
  },
  {
   "cell_type": "code",
   "execution_count": null,
   "metadata": {},
   "outputs": [],
   "source": []
  }
 ],
 "metadata": {
  "kernelspec": {
   "display_name": "Python 3",
   "language": "python",
   "name": "python3"
  },
  "language_info": {
   "codemirror_mode": {
    "name": "ipython",
    "version": 3
   },
   "file_extension": ".py",
   "mimetype": "text/x-python",
   "name": "python",
   "nbconvert_exporter": "python",
   "pygments_lexer": "ipython3",
   "version": "3.5.2"
  }
 },
 "nbformat": 4,
 "nbformat_minor": 2
}
